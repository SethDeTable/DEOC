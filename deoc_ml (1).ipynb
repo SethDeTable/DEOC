{
  "cells": [
    {
      "cell_type": "code",
      "source": [
        "%%pyspark\r\n",
        "import seaborn as sns\r\n",
        "import matplotlib.pyplot as plt\r\n",
        "import numpy as np\r\n",
        "import pandas as pd\r\n",
        "from pyspark.sql.types import DoubleType, IntegerType\r\n",
        "from pyspark.ml.feature import StringIndexer, VectorAssembler\r\n",
        "from pyspark.ml.regression import LinearRegression, LinearRegressionModel\r\n",
        "from pyspark.ml.evaluation import RegressionEvaluator\r\n"
      ],
      "outputs": [
        {
          "output_type": "display_data",
          "data": {
            "application/vnd.livy.statement-meta+json": {
              "spark_pool": "projetpfe",
              "statement_id": 166,
              "statement_ids": [
                166
              ],
              "livy_statement_state": "available",
              "spark_jobs": null,
              "session_id": "0",
              "state": "finished",
              "normalized_state": "finished",
              "queued_time": "2024-07-18T13:16:45.6152393Z",
              "session_start_time": null,
              "execution_start_time": "2024-07-18T13:16:45.7818307Z",
              "execution_finish_time": "2024-07-18T13:16:45.9583965Z",
              "parent_msg_id": "8efd4e0b-110b-437a-9705-5dbae83d3033"
            },
            "text/plain": "StatementMeta(projetpfe, 0, 166, Finished, Available, Finished)"
          },
          "metadata": {}
        }
      ],
      "execution_count": 165,
      "metadata": {
        "microsoft": {
          "language": "python"
        },
        "collapsed": false
      }
    },
    {
      "cell_type": "code",
      "source": [
        "df = spark.read.load('abfss://csv@storagediabetes.dfs.core.windows.net/product_final.csv', format='csv', Header = True)\r\n",
        "geog = spark.read.load('abfss://csv@storagediabetes.dfs.core.windows.net/list_geolocation_dataset.csv', format='csv'\r\n",
        "## If header exists uncomment line below\r\n",
        "##, header=True\r\n",
        ")\r\n",
        "display(df.limit(10))"
      ],
      "outputs": [
        {
          "output_type": "display_data",
          "data": {
            "application/vnd.livy.statement-meta+json": {
              "spark_pool": "projetpfe",
              "statement_id": 159,
              "statement_ids": [
                159
              ],
              "livy_statement_state": "available",
              "spark_jobs": null,
              "session_id": "0",
              "state": "finished",
              "normalized_state": "finished",
              "queued_time": "2024-07-18T13:14:45.3274897Z",
              "session_start_time": null,
              "execution_start_time": "2024-07-18T13:14:45.4963032Z",
              "execution_finish_time": "2024-07-18T13:14:47.4501242Z",
              "parent_msg_id": "48244243-f9c2-4b33-8614-5ef94023087d"
            },
            "text/plain": "StatementMeta(projetpfe, 0, 159, Finished, Available, Finished)"
          },
          "metadata": {}
        },
        {
          "output_type": "display_data",
          "data": {
            "application/vnd.synapse.widget-view+json": {
              "widget_id": "6dca8b26-f04a-47e9-bbeb-20ef6d878721",
              "widget_type": "Synapse.DataFrame"
            },
            "text/plain": "SynapseWidget(Synapse.DataFrame, 6dca8b26-f04a-47e9-bbeb-20ef6d878721)"
          },
          "metadata": {}
        }
      ],
      "execution_count": 158,
      "metadata": {
        "jupyter": {
          "source_hidden": false,
          "outputs_hidden": false
        },
        "nteract": {
          "transient": {
            "deleting": false
          }
        },
        "collapsed": false
      }
    },
    {
      "cell_type": "code",
      "source": [
        "df.na.drop()"
      ],
      "outputs": [],
      "execution_count": null,
      "metadata": {
        "jupyter": {
          "source_hidden": false,
          "outputs_hidden": false
        },
        "nteract": {
          "transient": {
            "deleting": false
          }
        }
      }
    },
    {
      "cell_type": "code",
      "source": [
        "df = df.withColumn(\"price\", df[\"price\"].cast(DoubleType())) \\\r\n",
        "       .withColumn(\"product_name_lenght\", df[\"product_name_lenght\"].cast(IntegerType())) \\\r\n",
        "       .withColumn(\"product_description_lenght\", df[\"product_description_lenght\"].cast(IntegerType())) \\\r\n",
        "       .withColumn(\"product_photos_qty\", df[\"product_photos_qty\"].cast(IntegerType())) \\\r\n",
        "       .withColumn(\"product_weight_g\", df[\"product_weight_g\"].cast(IntegerType())) \\\r\n",
        "       .withColumn(\"product_length_cm\", df[\"product_length_cm\"].cast(IntegerType())) \\\r\n",
        "       .withColumn(\"product_height_cm\", df[\"product_height_cm\"].cast(IntegerType())) \\\r\n",
        "       .withColumn(\"product_width_cm\", df[\"product_width_cm\"].cast(IntegerType())) \\\r\n",
        "       .withColumn(\"review_score\", df[\"review_score\"].cast(IntegerType())) "
      ],
      "outputs": [
        {
          "output_type": "display_data",
          "data": {
            "application/vnd.livy.statement-meta+json": {
              "spark_pool": "projetpfe",
              "statement_id": 160,
              "statement_ids": [
                160
              ],
              "livy_statement_state": "available",
              "spark_jobs": null,
              "session_id": "0",
              "state": "finished",
              "normalized_state": "finished",
              "queued_time": "2024-07-18T13:14:49.7193538Z",
              "session_start_time": null,
              "execution_start_time": "2024-07-18T13:14:49.9152286Z",
              "execution_finish_time": "2024-07-18T13:14:50.1408693Z",
              "parent_msg_id": "376c5855-d0a0-41ee-bc71-0862dbb9e31b"
            },
            "text/plain": "StatementMeta(projetpfe, 0, 160, Finished, Available, Finished)"
          },
          "metadata": {}
        }
      ],
      "execution_count": 159,
      "metadata": {
        "jupyter": {
          "source_hidden": false,
          "outputs_hidden": false
        },
        "nteract": {
          "transient": {
            "deleting": false
          }
        }
      }
    },
    {
      "cell_type": "code",
      "source": [
        "df.na.drop()"
      ],
      "outputs": [
        {
          "output_type": "display_data",
          "data": {
            "application/vnd.livy.statement-meta+json": {
              "spark_pool": "projetpfe",
              "statement_id": 167,
              "statement_ids": [
                167
              ],
              "livy_statement_state": "available",
              "spark_jobs": null,
              "session_id": "0",
              "state": "finished",
              "normalized_state": "finished",
              "queued_time": "2024-07-18T13:16:47.8593534Z",
              "session_start_time": null,
              "execution_start_time": "2024-07-18T13:16:48.0336942Z",
              "execution_finish_time": "2024-07-18T13:16:48.2938032Z",
              "parent_msg_id": "e851b357-9319-4555-a823-3695c63691c7"
            },
            "text/plain": "StatementMeta(projetpfe, 0, 167, Finished, Available, Finished)"
          },
          "metadata": {}
        },
        {
          "output_type": "error",
          "ename": "AttributeError",
          "evalue": "'DataFrame' object has no attribute 'apply'",
          "traceback": [
            "\u001b[0;31m---------------------------------------------------------------------------\u001b[0m",
            "\u001b[0;31mAttributeError\u001b[0m                            Traceback (most recent call last)",
            "Cell \u001b[0;32mIn[335], line 1\u001b[0m\n\u001b[0;32m----> 1\u001b[0m df \u001b[38;5;241m=\u001b[39m \u001b[43mdf\u001b[49m\u001b[38;5;241;43m.\u001b[39;49m\u001b[43mapply\u001b[49m(\u001b[38;5;28;01mlambda\u001b[39;00m x: x\u001b[38;5;241m.\u001b[39mfillna(x\u001b[38;5;241m.\u001b[39mmean()), axis\u001b[38;5;241m=\u001b[39m\u001b[38;5;241m0\u001b[39m)\n",
            "File \u001b[0;32m/opt/spark/python/lib/pyspark.zip/pyspark/sql/dataframe.py:2977\u001b[0m, in \u001b[0;36mDataFrame.__getattr__\u001b[0;34m(self, name)\u001b[0m\n\u001b[1;32m   2944\u001b[0m \u001b[38;5;250m\u001b[39m\u001b[38;5;124;03m\"\"\"Returns the :class:`Column` denoted by ``name``.\u001b[39;00m\n\u001b[1;32m   2945\u001b[0m \n\u001b[1;32m   2946\u001b[0m \u001b[38;5;124;03m.. versionadded:: 1.3.0\u001b[39;00m\n\u001b[0;32m   (...)\u001b[0m\n\u001b[1;32m   2974\u001b[0m \u001b[38;5;124;03m+---+\u001b[39;00m\n\u001b[1;32m   2975\u001b[0m \u001b[38;5;124;03m\"\"\"\u001b[39;00m\n\u001b[1;32m   2976\u001b[0m \u001b[38;5;28;01mif\u001b[39;00m name \u001b[38;5;129;01mnot\u001b[39;00m \u001b[38;5;129;01min\u001b[39;00m \u001b[38;5;28mself\u001b[39m\u001b[38;5;241m.\u001b[39mcolumns:\n\u001b[0;32m-> 2977\u001b[0m     \u001b[38;5;28;01mraise\u001b[39;00m \u001b[38;5;167;01mAttributeError\u001b[39;00m(\n\u001b[1;32m   2978\u001b[0m         \u001b[38;5;124m\"\u001b[39m\u001b[38;5;124m'\u001b[39m\u001b[38;5;132;01m%s\u001b[39;00m\u001b[38;5;124m'\u001b[39m\u001b[38;5;124m object has no attribute \u001b[39m\u001b[38;5;124m'\u001b[39m\u001b[38;5;132;01m%s\u001b[39;00m\u001b[38;5;124m'\u001b[39m\u001b[38;5;124m\"\u001b[39m \u001b[38;5;241m%\u001b[39m (\u001b[38;5;28mself\u001b[39m\u001b[38;5;241m.\u001b[39m\u001b[38;5;18m__class__\u001b[39m\u001b[38;5;241m.\u001b[39m\u001b[38;5;18m__name__\u001b[39m, name)\n\u001b[1;32m   2979\u001b[0m     )\n\u001b[1;32m   2980\u001b[0m jc \u001b[38;5;241m=\u001b[39m \u001b[38;5;28mself\u001b[39m\u001b[38;5;241m.\u001b[39m_jdf\u001b[38;5;241m.\u001b[39mapply(name)\n\u001b[1;32m   2981\u001b[0m \u001b[38;5;28;01mreturn\u001b[39;00m Column(jc)\n",
            "\u001b[0;31mAttributeError\u001b[0m: 'DataFrame' object has no attribute 'apply'"
          ]
        }
      ],
      "execution_count": 166,
      "metadata": {
        "jupyter": {
          "source_hidden": false,
          "outputs_hidden": false
        },
        "nteract": {
          "transient": {
            "deleting": false
          }
        }
      }
    },
    {
      "cell_type": "markdown",
      "source": [
        "df.printSchema()"
      ],
      "metadata": {
        "nteract": {
          "transient": {
            "deleting": false
          }
        }
      }
    },
    {
      "cell_type": "markdown",
      "source": [
        "df.describe().show()"
      ],
      "metadata": {
        "nteract": {
          "transient": {
            "deleting": false
          }
        }
      }
    },
    {
      "cell_type": "markdown",
      "source": [
        "Convertir les catégories de produits en variables numériques"
      ],
      "metadata": {
        "nteract": {
          "transient": {
            "deleting": false
          }
        }
      }
    },
    {
      "cell_type": "code",
      "source": [
        "indexer = StringIndexer(inputCol=\"product_category_name\", outputCol=\"product_category_index\")\r\n",
        "df = indexer.fit(df).transform(df)\r\n",
        "df.show(5)"
      ],
      "outputs": [
        {
          "output_type": "display_data",
          "data": {
            "application/vnd.livy.statement-meta+json": {
              "spark_pool": "projetpfe",
              "statement_id": 134,
              "statement_ids": [
                134
              ],
              "livy_statement_state": "available",
              "spark_jobs": null,
              "session_id": "0",
              "state": "finished",
              "normalized_state": "finished",
              "queued_time": "2024-07-18T13:08:01.9338765Z",
              "session_start_time": null,
              "execution_start_time": "2024-07-18T13:08:05.4346186Z",
              "execution_finish_time": "2024-07-18T13:08:06.0182404Z",
              "parent_msg_id": "14afe17e-3fff-4def-ba1d-268fd3131df2"
            },
            "text/plain": "StatementMeta(projetpfe, 0, 134, Finished, Available, Finished)"
          },
          "metadata": {}
        },
        {
          "output_type": "stream",
          "name": "stdout",
          "text": [
            "+--------------------+-----+---------------------+-------------------+--------------------------+------------------+----------------+-----------------+-----------------+----------------+------------+----------------------+\n|          product_id|price|product_category_name|product_name_lenght|product_description_lenght|product_photos_qty|product_weight_g|product_length_cm|product_height_cm|product_width_cm|review_score|product_category_index|\n+--------------------+-----+---------------------+-------------------+--------------------------+------------------+----------------+-----------------+-----------------+----------------+------------+----------------------+\n|4244733e06e7ecb49...| 58.9|           cool_stuff|                 58|                       598|                 4|             650|               28|                9|              14|           5|                  11.0|\n|e5f2d52b802189ee6...|239.9|             pet_shop|                 56|                       239|                 2|           30000|               50|               30|              40|           4|                  17.0|\n|c777355d18b72b67a...|199.0|      furniture_decor|                 59|                       695|                 2|            3050|               33|               13|              33|           5|                   3.0|\n|7634da152a4610f15...|12.99|            perfumery|                 42|                       480|                 1|             200|               16|               10|              15|           4|                  12.0|\n|ac6c3623068f30de0...|199.9|         garden_tools|                 59|                       409|                 1|            3750|               35|               40|              30|           5|                   8.0|\n+--------------------+-----+---------------------+-------------------+--------------------------+------------------+----------------+-----------------+-----------------+----------------+------------+----------------------+\nonly showing top 5 rows\n\n"
          ]
        }
      ],
      "execution_count": 133,
      "metadata": {
        "jupyter": {
          "source_hidden": false,
          "outputs_hidden": false
        },
        "nteract": {
          "transient": {
            "deleting": false
          }
        }
      }
    },
    {
      "cell_type": "code",
      "source": [
        "feature_columns = ['price', 'product_name_lenght', 'product_description_lenght', 'product_photos_qty', 'product_weight_g', 'product_length_cm', 'product_height_cm', 'product_width_cm', 'product_category_index']\r\n",
        "assembler = VectorAssembler(inputCols=feature_columns, outputCol=\"features\")"
      ],
      "outputs": [
        {
          "output_type": "display_data",
          "data": {
            "application/vnd.livy.statement-meta+json": {
              "spark_pool": "projetpfe",
              "statement_id": 135,
              "statement_ids": [
                135
              ],
              "livy_statement_state": "available",
              "spark_jobs": null,
              "session_id": "0",
              "state": "finished",
              "normalized_state": "finished",
              "queued_time": "2024-07-18T13:08:01.9940336Z",
              "session_start_time": null,
              "execution_start_time": "2024-07-18T13:08:06.2125168Z",
              "execution_finish_time": "2024-07-18T13:08:06.4424066Z",
              "parent_msg_id": "123e0310-22a7-4d84-9f36-9405da3d1a55"
            },
            "text/plain": "StatementMeta(projetpfe, 0, 135, Finished, Available, Finished)"
          },
          "metadata": {}
        }
      ],
      "execution_count": 134,
      "metadata": {
        "jupyter": {
          "source_hidden": false,
          "outputs_hidden": false
        },
        "nteract": {
          "transient": {
            "deleting": false
          }
        }
      }
    },
    {
      "cell_type": "code",
      "source": [
        "df = df.withColumn(\"product_category_index\", df[\"product_category_index\"].cast(IntegerType()))"
      ],
      "outputs": [
        {
          "output_type": "display_data",
          "data": {
            "application/vnd.livy.statement-meta+json": {
              "spark_pool": "projetpfe",
              "statement_id": 136,
              "statement_ids": [
                136
              ],
              "livy_statement_state": "available",
              "spark_jobs": null,
              "session_id": "0",
              "state": "finished",
              "normalized_state": "finished",
              "queued_time": "2024-07-18T13:08:02.0574025Z",
              "session_start_time": null,
              "execution_start_time": "2024-07-18T13:08:06.6515208Z",
              "execution_finish_time": "2024-07-18T13:08:06.8275388Z",
              "parent_msg_id": "2052ba56-5ab6-4249-9e88-21e8f544b720"
            },
            "text/plain": "StatementMeta(projetpfe, 0, 136, Finished, Available, Finished)"
          },
          "metadata": {}
        }
      ],
      "execution_count": 135,
      "metadata": {
        "jupyter": {
          "source_hidden": false,
          "outputs_hidden": false
        },
        "nteract": {
          "transient": {
            "deleting": false
          }
        }
      }
    },
    {
      "cell_type": "code",
      "source": [
        "assembler = VectorAssembler(inputCols=feature_columns, outputCol=\"features\", handleInvalid=\"skip\")\r\n",
        "df = assembler.transform(df)"
      ],
      "outputs": [
        {
          "output_type": "display_data",
          "data": {
            "application/vnd.livy.statement-meta+json": {
              "spark_pool": "projetpfe",
              "statement_id": 137,
              "statement_ids": [
                137
              ],
              "livy_statement_state": "available",
              "spark_jobs": null,
              "session_id": "0",
              "state": "finished",
              "normalized_state": "finished",
              "queued_time": "2024-07-18T13:08:02.1617739Z",
              "session_start_time": null,
              "execution_start_time": "2024-07-18T13:08:07.0007706Z",
              "execution_finish_time": "2024-07-18T13:08:07.2433741Z",
              "parent_msg_id": "90d159e0-af5e-467c-ab3d-e8f22b6a5a36"
            },
            "text/plain": "StatementMeta(projetpfe, 0, 137, Finished, Available, Finished)"
          },
          "metadata": {}
        }
      ],
      "execution_count": 136,
      "metadata": {
        "jupyter": {
          "source_hidden": false,
          "outputs_hidden": false
        },
        "nteract": {
          "transient": {
            "deleting": false
          }
        }
      }
    },
    {
      "cell_type": "code",
      "source": [
        "df = df.select(['features', 'review_score'])"
      ],
      "outputs": [
        {
          "output_type": "display_data",
          "data": {
            "application/vnd.livy.statement-meta+json": {
              "spark_pool": "projetpfe",
              "statement_id": 138,
              "statement_ids": [
                138
              ],
              "livy_statement_state": "available",
              "spark_jobs": null,
              "session_id": "0",
              "state": "finished",
              "normalized_state": "finished",
              "queued_time": "2024-07-18T13:08:02.261534Z",
              "session_start_time": null,
              "execution_start_time": "2024-07-18T13:08:07.4186349Z",
              "execution_finish_time": "2024-07-18T13:08:07.5940681Z",
              "parent_msg_id": "715f0ca6-fe02-44b9-aa63-534568e4fcf1"
            },
            "text/plain": "StatementMeta(projetpfe, 0, 138, Finished, Available, Finished)"
          },
          "metadata": {}
        }
      ],
      "execution_count": 137,
      "metadata": {
        "jupyter": {
          "source_hidden": false,
          "outputs_hidden": false
        },
        "nteract": {
          "transient": {
            "deleting": false
          }
        }
      }
    },
    {
      "cell_type": "code",
      "source": [
        "df.na.drop()"
      ],
      "outputs": [
        {
          "output_type": "display_data",
          "data": {
            "application/vnd.livy.statement-meta+json": {
              "spark_pool": "projetpfe",
              "statement_id": 139,
              "statement_ids": [
                139
              ],
              "livy_statement_state": "available",
              "spark_jobs": null,
              "session_id": "0",
              "state": "finished",
              "normalized_state": "finished",
              "queued_time": "2024-07-18T13:08:02.3453775Z",
              "session_start_time": null,
              "execution_start_time": "2024-07-18T13:08:07.7761544Z",
              "execution_finish_time": "2024-07-18T13:08:08.0131226Z",
              "parent_msg_id": "ced327e7-2c25-4d14-9ce6-a77ebc74aec8"
            },
            "text/plain": "StatementMeta(projetpfe, 0, 139, Finished, Available, Finished)"
          },
          "metadata": {}
        },
        {
          "output_type": "execute_result",
          "execution_count": 279,
          "data": {
            "text/plain": "DataFrame[features: vector, review_score: int]"
          },
          "metadata": {}
        }
      ],
      "execution_count": 138,
      "metadata": {
        "jupyter": {
          "source_hidden": false,
          "outputs_hidden": false
        },
        "nteract": {
          "transient": {
            "deleting": false
          }
        }
      }
    },
    {
      "cell_type": "code",
      "source": [
        "df.printSchema()"
      ],
      "outputs": [
        {
          "output_type": "display_data",
          "data": {
            "application/vnd.livy.statement-meta+json": {
              "spark_pool": "projetpfe",
              "statement_id": 140,
              "statement_ids": [
                140
              ],
              "livy_statement_state": "available",
              "spark_jobs": null,
              "session_id": "0",
              "state": "finished",
              "normalized_state": "finished",
              "queued_time": "2024-07-18T13:08:02.3858025Z",
              "session_start_time": null,
              "execution_start_time": "2024-07-18T13:08:08.1806147Z",
              "execution_finish_time": "2024-07-18T13:08:08.3657273Z",
              "parent_msg_id": "8a6a3469-7a16-4ace-92a8-5ec82cb0b6d1"
            },
            "text/plain": "StatementMeta(projetpfe, 0, 140, Finished, Available, Finished)"
          },
          "metadata": {}
        },
        {
          "output_type": "stream",
          "name": "stdout",
          "text": [
            "root\n |-- features: vector (nullable = true)\n |-- review_score: integer (nullable = true)\n\n"
          ]
        }
      ],
      "execution_count": 139,
      "metadata": {
        "jupyter": {
          "source_hidden": false,
          "outputs_hidden": false
        },
        "nteract": {
          "transient": {
            "deleting": false
          }
        }
      }
    },
    {
      "cell_type": "code",
      "source": [
        "df.fillna(0)"
      ],
      "outputs": [
        {
          "output_type": "display_data",
          "data": {
            "application/vnd.livy.statement-meta+json": {
              "spark_pool": "projetpfe",
              "statement_id": 152,
              "statement_ids": [
                152
              ],
              "livy_statement_state": "available",
              "spark_jobs": null,
              "session_id": "0",
              "state": "finished",
              "normalized_state": "finished",
              "queued_time": "2024-07-18T13:10:34.329784Z",
              "session_start_time": null,
              "execution_start_time": "2024-07-18T13:10:34.4876885Z",
              "execution_finish_time": "2024-07-18T13:10:34.6670735Z",
              "parent_msg_id": "014b1176-5156-4e54-93f0-b9ea7107f820"
            },
            "text/plain": "StatementMeta(projetpfe, 0, 152, Finished, Available, Finished)"
          },
          "metadata": {}
        },
        {
          "output_type": "execute_result",
          "execution_count": 305,
          "data": {
            "text/plain": "DataFrame[features: vector, review_score: int]"
          },
          "metadata": {}
        }
      ],
      "execution_count": 151,
      "metadata": {
        "jupyter": {
          "source_hidden": false,
          "outputs_hidden": false
        },
        "nteract": {
          "transient": {
            "deleting": false
          }
        }
      }
    },
    {
      "cell_type": "code",
      "source": [
        "train_df, test_df = df.randomSplit([0.8, 0.2], seed=42)"
      ],
      "outputs": [
        {
          "output_type": "display_data",
          "data": {
            "application/vnd.livy.statement-meta+json": {
              "spark_pool": "projetpfe",
              "statement_id": 141,
              "statement_ids": [
                141
              ],
              "livy_statement_state": "available",
              "spark_jobs": null,
              "session_id": "0",
              "state": "finished",
              "normalized_state": "finished",
              "queued_time": "2024-07-18T13:08:02.4455008Z",
              "session_start_time": null,
              "execution_start_time": "2024-07-18T13:08:08.5313682Z",
              "execution_finish_time": "2024-07-18T13:08:08.7169542Z",
              "parent_msg_id": "a1d22463-98be-4834-b880-7543d8b49316"
            },
            "text/plain": "StatementMeta(projetpfe, 0, 141, Finished, Available, Finished)"
          },
          "metadata": {}
        }
      ],
      "execution_count": 140,
      "metadata": {
        "jupyter": {
          "source_hidden": false,
          "outputs_hidden": false
        },
        "nteract": {
          "transient": {
            "deleting": false
          }
        }
      }
    },
    {
      "cell_type": "code",
      "source": [
        "lr = LinearRegression(labelCol=\"review_score\")\r\n",
        "lr_model = lr.fit(train_df)"
      ],
      "outputs": [
        {
          "output_type": "display_data",
          "data": {
            "application/vnd.livy.statement-meta+json": {
              "spark_pool": "projetpfe",
              "statement_id": 142,
              "statement_ids": [
                142
              ],
              "livy_statement_state": "available",
              "spark_jobs": null,
              "session_id": "0",
              "state": "finished",
              "normalized_state": "finished",
              "queued_time": "2024-07-18T13:08:02.5417208Z",
              "session_start_time": null,
              "execution_start_time": "2024-07-18T13:08:08.8938085Z",
              "execution_finish_time": "2024-07-18T13:08:11.8170613Z",
              "parent_msg_id": "df4a9812-b299-4882-8ce1-c4b69f358df0"
            },
            "text/plain": "StatementMeta(projetpfe, 0, 142, Finished, Available, Finished)"
          },
          "metadata": {}
        }
      ],
      "execution_count": 141,
      "metadata": {
        "jupyter": {
          "source_hidden": false,
          "outputs_hidden": false
        },
        "nteract": {
          "transient": {
            "deleting": false
          }
        }
      }
    },
    {
      "cell_type": "code",
      "source": [
        "predictions = lr_model.transform(test_df)"
      ],
      "outputs": [
        {
          "output_type": "display_data",
          "data": {
            "application/vnd.livy.statement-meta+json": {
              "spark_pool": "projetpfe",
              "statement_id": 143,
              "statement_ids": [
                143
              ],
              "livy_statement_state": "available",
              "spark_jobs": null,
              "session_id": "0",
              "state": "finished",
              "normalized_state": "finished",
              "queued_time": "2024-07-18T13:08:02.6175122Z",
              "session_start_time": null,
              "execution_start_time": "2024-07-18T13:08:12.0163131Z",
              "execution_finish_time": "2024-07-18T13:08:12.2026797Z",
              "parent_msg_id": "e80a104c-1d9e-428d-b53f-2f2092409e44"
            },
            "text/plain": "StatementMeta(projetpfe, 0, 143, Finished, Available, Finished)"
          },
          "metadata": {}
        }
      ],
      "execution_count": 142,
      "metadata": {
        "jupyter": {
          "source_hidden": false,
          "outputs_hidden": false
        },
        "nteract": {
          "transient": {
            "deleting": false
          }
        }
      }
    },
    {
      "cell_type": "code",
      "source": [
        "predictions.select(\"prediction\", \"review_score\", \"features\").show()"
      ],
      "outputs": [
        {
          "output_type": "display_data",
          "data": {
            "application/vnd.livy.statement-meta+json": {
              "spark_pool": "projetpfe",
              "statement_id": 144,
              "statement_ids": [
                144
              ],
              "livy_statement_state": "available",
              "spark_jobs": null,
              "session_id": "0",
              "state": "finished",
              "normalized_state": "finished",
              "queued_time": "2024-07-18T13:08:02.6734105Z",
              "session_start_time": null,
              "execution_start_time": "2024-07-18T13:08:12.3916358Z",
              "execution_finish_time": "2024-07-18T13:08:13.5649997Z",
              "parent_msg_id": "0daa95cd-fcb4-4717-b6bb-812149cd707f"
            },
            "text/plain": "StatementMeta(projetpfe, 0, 144, Finished, Available, Finished)"
          },
          "metadata": {}
        },
        {
          "output_type": "stream",
          "name": "stdout",
          "text": [
            "+------------------+------------+--------------------+\n|        prediction|review_score|            features|\n+------------------+------------+--------------------+\n| 4.078981169881583|           5|[2.9,48.0,1392.0,...|\n| 4.041787129784572|           5|[3.85,52.0,446.0,...|\n| 4.129007477861675|           5|[3.9,39.0,275.0,2...|\n| 4.129007477861675|           5|[3.9,39.0,275.0,2...|\n| 4.051580126112524|           1|[4.99,43.0,454.0,...|\n| 4.013595207318975|           5|[4.99,47.0,313.0,...|\n| 4.057355860338315|           4|[5.2,40.0,781.0,3...|\n| 4.099494803594185|           5|[5.49,23.0,3132.0...|\n| 4.016037792332077|           3|[5.85,28.0,834.0,...|\n|4.0234805527871575|           3|[5.85,54.0,458.0,...|\n|4.0234805527871575|           3|[5.85,54.0,458.0,...|\n| 4.040925413242543|           5|[5.9,22.0,332.0,1...|\n| 3.986188671948315|           1|[5.9,41.0,400.0,1...|\n| 3.986188671948315|           1|[5.9,41.0,400.0,1...|\n|  4.12305025602049|           4|[5.9,60.0,981.0,1...|\n| 4.120135308714242|           5|[5.99,15.0,359.0,...|\n| 4.037872155008534|           4|[5.99,54.0,175.0,...|\n| 4.065401082321674|           4|[6.49,46.0,805.0,...|\n| 4.042370442464634|           5|[6.5,58.0,922.0,2...|\n|  4.02500068250984|           5|[6.9,30.0,73.0,3....|\n+------------------+------------+--------------------+\nonly showing top 20 rows\n\n"
          ]
        }
      ],
      "execution_count": 143,
      "metadata": {
        "jupyter": {
          "source_hidden": false,
          "outputs_hidden": false
        },
        "nteract": {
          "transient": {
            "deleting": false
          }
        }
      }
    },
    {
      "cell_type": "code",
      "source": [
        "evaluator = RegressionEvaluator(labelCol=\"review_score\", predictionCol=\"prediction\", metricName=\"mae\")\r\n",
        "mae = evaluator.evaluate(predictions)\r\n",
        "print(f\"Mean Absolute Error (MAE): {mae}\")"
      ],
      "outputs": [
        {
          "output_type": "display_data",
          "data": {
            "application/vnd.livy.statement-meta+json": {
              "spark_pool": "projetpfe",
              "statement_id": 145,
              "statement_ids": [
                145
              ],
              "livy_statement_state": "available",
              "spark_jobs": null,
              "session_id": "0",
              "state": "finished",
              "normalized_state": "finished",
              "queued_time": "2024-07-18T13:08:02.752808Z",
              "session_start_time": null,
              "execution_start_time": "2024-07-18T13:08:13.7644527Z",
              "execution_finish_time": "2024-07-18T13:08:14.9174031Z",
              "parent_msg_id": "36f24605-63b6-44d6-b1ab-c84d777928ce"
            },
            "text/plain": "StatementMeta(projetpfe, 0, 145, Finished, Available, Finished)"
          },
          "metadata": {}
        },
        {
          "output_type": "stream",
          "name": "stdout",
          "text": [
            "Mean Absolute Error (MAE): 1.1129464116769296\n"
          ]
        }
      ],
      "execution_count": 144,
      "metadata": {
        "jupyter": {
          "source_hidden": false,
          "outputs_hidden": false
        },
        "nteract": {
          "transient": {
            "deleting": false
          }
        }
      }
    },
    {
      "cell_type": "code",
      "source": [
        "evaluator = RegressionEvaluator(labelCol=\"review_score\", predictionCol=\"prediction\", metricName=\"rmse\")\r\n",
        "rmse = evaluator.evaluate(predictions)\r\n",
        "print(f\"Root Mean Squared Error (RMSE): {rmse}\")"
      ],
      "outputs": [
        {
          "output_type": "display_data",
          "data": {
            "application/vnd.livy.statement-meta+json": {
              "spark_pool": "projetpfe",
              "statement_id": 146,
              "statement_ids": [
                146
              ],
              "livy_statement_state": "available",
              "spark_jobs": null,
              "session_id": "0",
              "state": "finished",
              "normalized_state": "finished",
              "queued_time": "2024-07-18T13:08:02.797248Z",
              "session_start_time": null,
              "execution_start_time": "2024-07-18T13:08:15.0988078Z",
              "execution_finish_time": "2024-07-18T13:08:16.285513Z",
              "parent_msg_id": "e6678897-94ae-4e33-9369-a83dd06ccf89"
            },
            "text/plain": "StatementMeta(projetpfe, 0, 146, Finished, Available, Finished)"
          },
          "metadata": {}
        },
        {
          "output_type": "stream",
          "name": "stdout",
          "text": [
            "Root Mean Squared Error (RMSE): 1.4043783144193012\n"
          ]
        }
      ],
      "execution_count": 145,
      "metadata": {
        "jupyter": {
          "source_hidden": false,
          "outputs_hidden": false
        },
        "nteract": {
          "transient": {
            "deleting": false
          }
        }
      }
    },
    {
      "cell_type": "code",
      "source": [
        "lr_model.save(\"home/thomas.tisseron/lr_model\")"
      ],
      "outputs": [
        {
          "output_type": "display_data",
          "data": {
            "application/vnd.livy.statement-meta+json": {
              "spark_pool": "projetpfe",
              "statement_id": 155,
              "statement_ids": [
                155
              ],
              "livy_statement_state": "available",
              "spark_jobs": null,
              "session_id": "0",
              "state": "finished",
              "normalized_state": "finished",
              "queued_time": "2024-07-18T13:12:14.1764462Z",
              "session_start_time": null,
              "execution_start_time": "2024-07-18T13:12:14.3900111Z",
              "execution_finish_time": "2024-07-18T13:12:17.3542704Z",
              "parent_msg_id": "59bbb287-1ffd-4943-ae57-4a3ec866d6dd"
            },
            "text/plain": "StatementMeta(projetpfe, 0, 155, Finished, Available, Finished)"
          },
          "metadata": {}
        }
      ],
      "execution_count": 154,
      "metadata": {
        "jupyter": {
          "source_hidden": false,
          "outputs_hidden": false
        },
        "nteract": {
          "transient": {
            "deleting": false
          }
        }
      }
    },
    {
      "cell_type": "code",
      "source": [
        "loaded_model = LinearRegressionModel.load(\"home/thomas.tisseron/lr_model\")"
      ],
      "outputs": [
        {
          "output_type": "display_data",
          "data": {
            "application/vnd.livy.statement-meta+json": {
              "spark_pool": "projetpfe",
              "statement_id": 157,
              "statement_ids": [
                157
              ],
              "livy_statement_state": "available",
              "spark_jobs": null,
              "session_id": "0",
              "state": "finished",
              "normalized_state": "finished",
              "queued_time": "2024-07-18T13:12:31.4321598Z",
              "session_start_time": null,
              "execution_start_time": "2024-07-18T13:12:31.5999986Z",
              "execution_finish_time": "2024-07-18T13:12:32.7944147Z",
              "parent_msg_id": "4cc9fab1-ccc6-4f62-a2ab-0a410c5ee9d1"
            },
            "text/plain": "StatementMeta(projetpfe, 0, 157, Finished, Available, Finished)"
          },
          "metadata": {}
        }
      ],
      "execution_count": 156,
      "metadata": {
        "jupyter": {
          "source_hidden": false,
          "outputs_hidden": false
        },
        "nteract": {
          "transient": {
            "deleting": false
          }
        }
      }
    },
    {
      "cell_type": "code",
      "source": [
        "new_predictions = loaded_model.transform(test_df)\r\n",
        "new_predictions.select(\"prediction\", \"review_score\", \"features\").show()"
      ],
      "outputs": [
        {
          "output_type": "display_data",
          "data": {
            "application/vnd.livy.statement-meta+json": {
              "spark_pool": "projetpfe",
              "statement_id": 158,
              "statement_ids": [
                158
              ],
              "livy_statement_state": "available",
              "spark_jobs": null,
              "session_id": "0",
              "state": "finished",
              "normalized_state": "finished",
              "queued_time": "2024-07-18T13:12:33.5201398Z",
              "session_start_time": null,
              "execution_start_time": "2024-07-18T13:12:33.6793049Z",
              "execution_finish_time": "2024-07-18T13:12:34.9233844Z",
              "parent_msg_id": "94711ab7-b06d-478f-a179-30aef10e9630"
            },
            "text/plain": "StatementMeta(projetpfe, 0, 158, Finished, Available, Finished)"
          },
          "metadata": {}
        },
        {
          "output_type": "stream",
          "name": "stdout",
          "text": [
            "+------------------+------------+--------------------+\n|        prediction|review_score|            features|\n+------------------+------------+--------------------+\n| 4.078981169881583|           5|[2.9,48.0,1392.0,...|\n| 4.041787129784572|           5|[3.85,52.0,446.0,...|\n| 4.129007477861675|           5|[3.9,39.0,275.0,2...|\n| 4.129007477861675|           5|[3.9,39.0,275.0,2...|\n| 4.051580126112524|           1|[4.99,43.0,454.0,...|\n| 4.013595207318975|           5|[4.99,47.0,313.0,...|\n| 4.057355860338315|           4|[5.2,40.0,781.0,3...|\n| 4.099494803594185|           5|[5.49,23.0,3132.0...|\n| 4.016037792332077|           3|[5.85,28.0,834.0,...|\n|4.0234805527871575|           3|[5.85,54.0,458.0,...|\n|4.0234805527871575|           3|[5.85,54.0,458.0,...|\n| 4.040925413242543|           5|[5.9,22.0,332.0,1...|\n| 3.986188671948315|           1|[5.9,41.0,400.0,1...|\n| 3.986188671948315|           1|[5.9,41.0,400.0,1...|\n|  4.12305025602049|           4|[5.9,60.0,981.0,1...|\n| 4.120135308714242|           5|[5.99,15.0,359.0,...|\n| 4.037872155008534|           4|[5.99,54.0,175.0,...|\n| 4.065401082321674|           4|[6.49,46.0,805.0,...|\n| 4.042370442464634|           5|[6.5,58.0,922.0,2...|\n|  4.02500068250984|           5|[6.9,30.0,73.0,3....|\n+------------------+------------+--------------------+\nonly showing top 20 rows\n\n"
          ]
        }
      ],
      "execution_count": 157,
      "metadata": {
        "jupyter": {
          "source_hidden": false,
          "outputs_hidden": false
        },
        "nteract": {
          "transient": {
            "deleting": false
          }
        }
      }
    }
  ],
  "metadata": {
    "kernelspec": {
      "name": "synapse_pyspark",
      "language": "Python",
      "display_name": "Synapse PySpark"
    },
    "language_info": {
      "name": "python"
    },
    "kernel_info": {
      "name": "synapse_pyspark"
    },
    "save_output": true,
    "synapse_widget": {
      "version": "0.1",
      "state": {
        "6dca8b26-f04a-47e9-bbeb-20ef6d878721": {
          "type": "Synapse.DataFrame",
          "sync_state": {
            "table": {
              "rows": [
                {
                  "0": "4244733e06e7ecb4970a6e2683c13e61",
                  "1": "58.90",
                  "2": "cool_stuff",
                  "3": "58",
                  "4": "598",
                  "5": "4",
                  "6": "650",
                  "7": "28",
                  "8": "9",
                  "9": "14",
                  "10": "5"
                },
                {
                  "0": "e5f2d52b802189ee658865ca93d83a8f",
                  "1": "239.90",
                  "2": "pet_shop",
                  "3": "56",
                  "4": "239",
                  "5": "2",
                  "6": "30000",
                  "7": "50",
                  "8": "30",
                  "9": "40",
                  "10": "4"
                },
                {
                  "0": "c777355d18b72b67abbeef9df44fd0fd",
                  "1": "199.00",
                  "2": "furniture_decor",
                  "3": "59",
                  "4": "695",
                  "5": "2",
                  "6": "3050",
                  "7": "33",
                  "8": "13",
                  "9": "33",
                  "10": "5"
                },
                {
                  "0": "7634da152a4610f1595efa32f14722fc",
                  "1": "12.99",
                  "2": "perfumery",
                  "3": "42",
                  "4": "480",
                  "5": "1",
                  "6": "200",
                  "7": "16",
                  "8": "10",
                  "9": "15",
                  "10": "4"
                },
                {
                  "0": "ac6c3623068f30de03045865e4e10089",
                  "1": "199.90",
                  "2": "garden_tools",
                  "3": "59",
                  "4": "409",
                  "5": "1",
                  "6": "3750",
                  "7": "35",
                  "8": "40",
                  "9": "30",
                  "10": "5"
                },
                {
                  "0": "ef92defde845ab8450f9d70c526ef70f",
                  "1": "21.90",
                  "2": "housewares",
                  "3": "36",
                  "4": "558",
                  "5": "1",
                  "6": "450",
                  "7": "24",
                  "8": "8",
                  "9": "15",
                  "10": "4"
                },
                {
                  "0": "8d4f2bb7e93e6710a28f34fa83ee7d28",
                  "1": "19.90",
                  "2": "telephony",
                  "3": "52",
                  "4": "815",
                  "5": "1",
                  "6": "200",
                  "7": "27",
                  "8": "5",
                  "9": "20",
                  "10": "4"
                },
                {
                  "0": "557d850972a7d6f792fd18ae1400d9b6",
                  "1": "810.00",
                  "2": "garden_tools",
                  "3": "39",
                  "4": "1310",
                  "5": "3",
                  "6": "13805",
                  "7": "35",
                  "8": "75",
                  "9": "45",
                  "10": "5"
                },
                {
                  "0": "310ae3c140ff94b03219ad0adc3c778f",
                  "1": "145.95",
                  "2": "health_beauty",
                  "3": "59",
                  "4": "493",
                  "5": "1",
                  "6": "2000",
                  "7": "30",
                  "8": "12",
                  "9": "16",
                  "10": "1"
                },
                {
                  "0": "4535b0e1091c278dfd193e5a1d63b39f",
                  "1": "53.99",
                  "2": "books_technical",
                  "3": "52",
                  "4": "1192",
                  "5": "1",
                  "6": "850",
                  "7": "29",
                  "8": "3",
                  "9": "21",
                  "10": "4"
                }
              ],
              "schema": [
                {
                  "key": "0",
                  "name": "product_id",
                  "type": "string"
                },
                {
                  "key": "1",
                  "name": "price",
                  "type": "string"
                },
                {
                  "key": "2",
                  "name": "product_category_name",
                  "type": "string"
                },
                {
                  "key": "3",
                  "name": "product_name_lenght",
                  "type": "string"
                },
                {
                  "key": "4",
                  "name": "product_description_lenght",
                  "type": "string"
                },
                {
                  "key": "5",
                  "name": "product_photos_qty",
                  "type": "string"
                },
                {
                  "key": "6",
                  "name": "product_weight_g",
                  "type": "string"
                },
                {
                  "key": "7",
                  "name": "product_length_cm",
                  "type": "string"
                },
                {
                  "key": "8",
                  "name": "product_height_cm",
                  "type": "string"
                },
                {
                  "key": "9",
                  "name": "product_width_cm",
                  "type": "string"
                },
                {
                  "key": "10",
                  "name": "review_score",
                  "type": "string"
                }
              ],
              "truncated": false
            },
            "isSummary": false,
            "language": "scala"
          },
          "persist_state": {
            "view": {
              "type": "details",
              "tableOptions": {},
              "chartOptions": {
                "chartType": "bar",
                "aggregationType": "count",
                "categoryFieldKeys": [
                  "0"
                ],
                "seriesFieldKeys": [
                  "0"
                ],
                "isStacked": false
              }
            }
          }
        }
      }
    }
  },
  "nbformat": 4,
  "nbformat_minor": 2
}